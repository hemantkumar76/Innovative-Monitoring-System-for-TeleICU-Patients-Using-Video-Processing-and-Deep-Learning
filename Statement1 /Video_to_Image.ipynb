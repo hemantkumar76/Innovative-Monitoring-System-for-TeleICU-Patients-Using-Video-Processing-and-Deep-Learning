{
 "cells": [
  {
   "cell_type": "code",
   "execution_count": null,
   "metadata": {},
   "outputs": [],
   "source": [
    "import cv2\n",
    "import os\n",
    "\n",
    "def extract_frames(video_path, output_dir, frame_rate=30):\n",
    "    if not os.path.exists(output_dir):\n",
    "        os.makedirs(output_dir)\n",
    "\n",
    "    cap = cv2.VideoCapture(video_path)\n",
    "    count = 0\n",
    "    while cap.isOpened():\n",
    "        ret, frame = cap.read()\n",
    "        if not ret:\n",
    "            break\n",
    "        if count % frame_rate == 0:\n",
    "            frame_filename = os.path.join(output_dir, f\"frame_{count}.jpg\")\n",
    "            cv2.imwrite(frame_filename, frame)\n",
    "        count += 1\n",
    "    cap.release()\n",
    "    cv2.destroyAllWindows()\n",
    "\n",
    "video_path = 'Video Cutted Part/7.mp4'\n",
    "output_dir = 'output_frames_7'\n",
    "frame_rate = 15\n",
    "extract_frames(video_path, output_dir, frame_rate)\n"
   ]
  },
  {
   "cell_type": "code",
   "execution_count": null,
   "metadata": {},
   "outputs": [],
   "source": [
    "def crop_images(input_dir, output_dir, crop_region=None):\n",
    "    if not os.path.exists(output_dir):\n",
    "        os.makedirs(output_dir)\n",
    "\n",
    "    for filename in os.listdir(input_dir):\n",
    "        img_path = os.path.join(input_dir, filename)\n",
    "        img = cv2.imread(img_path)\n",
    "        if img is not None:\n",
    "            if crop_region:\n",
    "                img = img[crop_region[1]:crop_region[3], crop_region[0]:crop_region[2]]\n",
    "            cropped_img_path = os.path.join(output_dir, filename)\n",
    "            cv2.imwrite(cropped_img_path, img)\n",
    "\n",
    "input_dir = 'output_frames_1'\n",
    "output_dir = 'cropped_frames_1'\n",
    "crop_region = {25, 60}\n",
    "crop_images(input_dir, output_dir, crop_region)\n"
   ]
  },
  {
   "cell_type": "code",
   "execution_count": null,
   "metadata": {},
   "outputs": [],
   "source": []
  }
 ],
 "metadata": {
  "kernelspec": {
   "display_name": "Python 3",
   "language": "python",
   "name": "python3"
  },
  "language_info": {
   "codemirror_mode": {
    "name": "ipython",
    "version": 3
   },
   "file_extension": ".py",
   "mimetype": "text/x-python",
   "name": "python",
   "nbconvert_exporter": "python",
   "pygments_lexer": "ipython3",
   "version": "3.11.5"
  }
 },
 "nbformat": 4,
 "nbformat_minor": 2
}
